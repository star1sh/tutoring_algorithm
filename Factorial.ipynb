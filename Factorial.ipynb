{
  "nbformat": 4,
  "nbformat_minor": 0,
  "metadata": {
    "colab": {
      "private_outputs": true,
      "provenance": [],
      "authorship_tag": "ABX9TyNE+Yj/xjFUHSg45J5LvvbT"
    },
    "kernelspec": {
      "name": "python3",
      "display_name": "Python 3"
    },
    "language_info": {
      "name": "python"
    }
  },
  "cells": [
    {
      "cell_type": "code",
      "execution_count": null,
      "metadata": {
        "id": "eZtPWxf8P3s6"
      },
      "outputs": [],
      "source": [
        "def factorial(n) :\n",
        "    if n == 1: return 1\n",
        "    else: return n * factorial(n-1)\n",
        "\n",
        "print(factorial(8))"
      ]
    },
    {
      "cell_type": "code",
      "source": [
        "def factorial(n):\n",
        "    fac = 1\n",
        "    for i in range(1,n+1,1):\n",
        "        fac *= i\n",
        "    return fac\n",
        "\n",
        "print(factorial(8))"
      ],
      "metadata": {
        "id": "C0IJwRhkQAmE"
      },
      "execution_count": null,
      "outputs": []
    }
  ]
}